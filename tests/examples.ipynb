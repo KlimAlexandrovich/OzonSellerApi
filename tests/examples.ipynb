{
 "cells": [
  {
   "cell_type": "code",
   "id": "initial_id",
   "metadata": {
    "collapsed": true
   },
   "source": [
    "from OzonSellerAPIPackage.ozon_seller_api.fetchers.FBS import FBSPostingList\n",
    "from OzonSellerAPIPackage.ozon_seller_api.fetchers.FBO import FBOPostingList\n",
    "from OzonSellerAPIPackage.ozon_seller_api.fetchers.Finance import AsyncFinanceRealizationList\n",
    "from OzonSellerAPIPackage.ozon_seller_api.fetchers.Products import Products\n",
    "from OzonSellerAPIPackage.ozon_seller_api.fetchers.SellerRating import SellerRating\n",
    "from OzonSellerAPIPackage.ozon_seller_api.fetchers.WareHouses import get_ozon_warehouses"
   ],
   "outputs": [],
   "execution_count": null
  },
  {
   "metadata": {},
   "cell_type": "code",
   "source": [
    "headers = {\n",
    "    \"Client-Id\": \"Your Client-Id\",\n",
    "    \"Api-Key\": \"Your Api-Key\"\n",
    "}"
   ],
   "id": "2d8dad040ce49891",
   "outputs": [],
   "execution_count": null
  },
  {
   "metadata": {},
   "cell_type": "code",
   "source": [
    "start, end = \"2023.01.01\", \"2024.03.01\"\n",
    "fbs = FBSPostingList(headers, start, end, \"\")\n",
    "await fbs.run_in_jupyter()\n",
    "fbs = fbs.data\n",
    "print(len(fbs))"
   ],
   "id": "511945b2ff47647",
   "outputs": [],
   "execution_count": null
  },
  {
   "metadata": {},
   "cell_type": "code",
   "source": [
    "start, end = \"2023.01.01\", \"2024.03.01\"\n",
    "fbo = FBOPostingList(headers, start, end)\n",
    "await fbo.run_in_jupyter()\n",
    "fbo = fbo.data\n",
    "print(len(fbo))"
   ],
   "id": "b4639fd6b6b5f58a",
   "outputs": [],
   "execution_count": null
  },
  {
   "metadata": {},
   "cell_type": "code",
   "source": [
    "start, end = \"2023.01.01\", \"2024.03.01\"\n",
    "finance = AsyncFinanceRealizationList(headers, start, end)\n",
    "await finance.run_in_jupyter()\n",
    "finance = finance.data\n",
    "print(len(finance))"
   ],
   "id": "d38df8c02258c15d",
   "outputs": [],
   "execution_count": null
  },
  {
   "metadata": {},
   "cell_type": "code",
   "source": [
    "rating = SellerRating(headers)\n",
    "rating.run()\n",
    "print(len(rating.data), rating.penalty_score_exceeded, rating.premium, rating.localization_index)"
   ],
   "id": "a5d463a7e50b67c2",
   "outputs": [],
   "execution_count": null
  },
  {
   "metadata": {},
   "cell_type": "code",
   "source": [
    "products = Products(headers)\n",
    "products.run()\n",
    "print(len(products.products), len(products.prices), len(products.stocks), len(products.product_info))"
   ],
   "id": "2add720349f3afc2",
   "outputs": [],
   "execution_count": null
  },
  {
   "metadata": {},
   "cell_type": "code",
   "source": [
    "warehouses = get_ozon_warehouses(headers, output_format=\"full\")\n",
    "print(len(warehouses), warehouses[0])"
   ],
   "id": "a829948e02543611",
   "outputs": [],
   "execution_count": null
  }
 ],
 "metadata": {
  "kernelspec": {
   "display_name": "Python 3",
   "language": "python",
   "name": "python3"
  },
  "language_info": {
   "codemirror_mode": {
    "name": "ipython",
    "version": 2
   },
   "file_extension": ".py",
   "mimetype": "text/x-python",
   "name": "python",
   "nbconvert_exporter": "python",
   "pygments_lexer": "ipython2",
   "version": "2.7.6"
  }
 },
 "nbformat": 4,
 "nbformat_minor": 5
}
